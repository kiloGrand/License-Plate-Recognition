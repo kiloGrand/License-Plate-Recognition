{
 "cells": [
  {
   "cell_type": "code",
   "execution_count": 21,
   "id": "24d393a2-800a-4ba4-b1ee-f357bb39cd05",
   "metadata": {},
   "outputs": [],
   "source": [
    "import os\n",
    "from PIL import Image\n",
    "import matplotlib\n",
    "import matplotlib.pyplot as plt\n",
    "from tqdm import tqdm\n",
    "import numpy as np\n",
    "from torch.utils.data import Dataset\n",
    "import random\n",
    "import cv2\n",
    "import os\n",
    "import copy"
   ]
  },
  {
   "cell_type": "code",
   "execution_count": 22,
   "id": "4589e1c2-0079-4825-9f9b-79ab2b3fa43d",
   "metadata": {},
   "outputs": [],
   "source": [
    "CHARS = ['京', '沪', '津', '渝', '冀', '晋', '蒙', '辽', '吉', '黑',\n",
    "         '苏', '浙', '皖', '闽', '赣', '鲁', '豫', '鄂', '湘', '粤',\n",
    "         '桂', '琼', '川', '贵', '云', '藏', '陕', '甘', '青', '宁',\n",
    "         '新',\n",
    "         '0', '1', '2', '3', '4', '5', '6', '7', '8', '9',\n",
    "         'A', 'B', 'C', 'D', 'E', 'F', 'G', 'H', 'J', 'K',\n",
    "         'L', 'M', 'N', 'P', 'Q', 'R', 'S', 'T', 'U', 'V',\n",
    "         'W', 'X', 'Y', 'Z', 'I', 'O', '-'\n",
    "         ]\n",
    "CHARS_DICT = {char:i for i, char in enumerate(CHARS)}"
   ]
  },
  {
   "cell_type": "code",
   "execution_count": 23,
   "id": "880c5ea2-bc2d-42ab-88a1-c930990ea723",
   "metadata": {},
   "outputs": [],
   "source": [
    "# 添加椒盐噪声\n",
    "def SaltPepperNoise(src, percetage=0.3):\n",
    "    h, w, c = src.shape\n",
    "    SP_NoiseImg = src.copy()\n",
    "    SP_NoiseNum = int(percetage*h*w)\n",
    "    for i in range(SP_NoiseNum):\n",
    "        randR = np.random.randint(0, h)\n",
    "        randG = np.random.randint(0, w)\n",
    "        randB = np.random.randint(0, 3)\n",
    "        if random.random() > 0.5:\n",
    "            SP_NoiseImg[randR, randG, randB] = 0\n",
    "        else:\n",
    "            SP_NoiseImg[randR, randG, randB] = 255\n",
    "    return SP_NoiseImg\n",
    "\n",
    "# 高斯噪声\n",
    "def GaussianNoise(image, mean=0, sigma=1):\n",
    "    image = image / 255.0\n",
    "    noise = np.random.normal(mean, sigma, image.shape)\n",
    "    G_Noiseimg = image + noise\n",
    "    G_Noiseimg = np.clip(G_Noiseimg, a_max=255, a_min=0)\n",
    "    G_Noiseimg = np.uint8(G_Noiseimg*255)\n",
    "    return G_Noiseimg\n",
    "\n",
    "# 旋转\n",
    "def rotate(image, angle=90, center=None, scale=1.0):\n",
    "    (h, w) = image.shape[:2]\n",
    "    if center is None:\n",
    "        center = (w / 2, h / 2)\n",
    "    m = cv2.getRotationMatrix2D(center, angle, scale)\n",
    "    rotated = cv2.warpAffine(image, m, (w, h))\n",
    "    return rotated\n",
    "\n",
    "# 翻转\n",
    "def flip(image):\n",
    "    flipped_image = np.fliplr(image)\n",
    "    return flipped_image"
   ]
  },
  {
   "cell_type": "code",
   "execution_count": 96,
   "id": "f3a0bf3b-3155-435d-ab8a-0789ce74a69b",
   "metadata": {},
   "outputs": [],
   "source": [
    "class LPRDataSet(Dataset):\n",
    "    def __init__(self, img_dir, imgSize, lpr_max_len, PreprocFun=None, mode='test'):\n",
    "        self.img_dir = img_dir\n",
    "        self.img_paths = []\n",
    "        if type(img_dir) == str:  # 一个路径\n",
    "            for img_name in os.listdir(img_dir):\n",
    "                img_name = os.path.join(img_dir, img_name)\n",
    "                self.img_paths.append(img_name)\n",
    "        else:\n",
    "            print('error in img_dir, img_dir must be str or list')\n",
    "        random.shuffle(self.img_paths)        # 打乱顺序\n",
    "        self.img_size = imgSize\n",
    "        self.lpr_max_len = lpr_max_len\n",
    "        if PreprocFun is not None:\n",
    "            self.PreprocFun = PreprocFun\n",
    "        elif PreprocFun is None and mode == 'train':\n",
    "            self.PreprocFun = self.train_transform\n",
    "        elif PreprocFun is None and mode == 'test':\n",
    "            self.PreprocFun = self.test_transform\n",
    "\n",
    "    def __len__(self):\n",
    "        return len(self.img_paths)\n",
    "\n",
    "    def __getitem__(self, index):\n",
    "        filename = self.img_paths[index]\n",
    "        image = cv2.imread(filename)\n",
    "        height, width, _ = image.shape\n",
    "        if width != self.img_size[0] or height != self.img_size[1]:\n",
    "            image = cv2.resize(image, self.img_size)  # 缩放\n",
    "        # image = image.astype('float32')\n",
    "        # (height, width, channel) -> (channel, height, width) eg:(24,94,3)->(3,24,94) \n",
    "        # image = np.transpose(image, (2, 0, 1))\n",
    "        image = self.PreprocFun(image)\n",
    "\n",
    "        basename = os.path.basename(filename)\n",
    "        imgname, suffix = os.path.splitext(basename)\n",
    "        if int(imgname) < 9:\n",
    "            imgname = '粤GDH078'\n",
    "        else:\n",
    "            imgname = '粤DSTU01'\n",
    "        label = list()\n",
    "        for c in imgname:\n",
    "            label.append(CHARS_DICT[c])\n",
    "\n",
    "        if len(label) > self.lpr_max_len:\n",
    "            print(imgname)\n",
    "            assert 0, \"Error label ^~^!!!\"\n",
    "\n",
    "        return image, label, len(label)\n",
    "\n",
    "    def test_transform(self, img):\n",
    "        img = img.astype('float32')\n",
    "        img -= 127.5\n",
    "        img *= 0.0078125\n",
    "        # (height, width, channel) -> (channel, height, width) eg:(24,94,3)->(3,24,94) \n",
    "        img = np.transpose(img, (2, 0, 1)) \n",
    "        return img\n",
    "\n",
    "    def train_transform(self, img):\n",
    "        img = img.astype('float32')\n",
    "        p = random.uniform(0, 0.2)\n",
    "        img = SaltPepperNoise(img, p)\n",
    "        p = random.randint(0, 5)\n",
    "        img = rotate(img, p)\n",
    "        img -= 127.5\n",
    "        img *= 0.0078125\n",
    "        # (height, width, channel) -> (channel, height, width) eg:(24,94,3)->(3,24,94) \n",
    "        img = np.transpose(img, (2, 0, 1))\n",
    "        return img"
   ]
  },
  {
   "cell_type": "code",
   "execution_count": 97,
   "id": "dd2214fa-1e7a-4421-817b-50c0ae7b8679",
   "metadata": {},
   "outputs": [],
   "source": [
    "train_data = LPRDataSet('./data/demo/', (94, 24), 8, mode='train')\n",
    "train_data.img_paths"
   ]
  },
  {
   "cell_type": "code",
   "execution_count": 103,
   "id": "2fe98874-d056-4314-a379-8512c04a162a",
   "metadata": {},
   "outputs": [
    {
     "data": {
      "image/png": "[encoded data removed]",
      "text/plain": [
       "<PIL.Image.Image image mode=RGB size=94x24 at 0x7F7CD5394A00>"
      ]
     },
     "metadata": {},
     "output_type": "display_data"
    }
   ],
   "source": [
    "img, label, length = train_data[0]\n",
    "image = np.transpose(img, (1, 2, 0)) / 0.0078125 + 127.5\n",
    "image = image.astype(np.uint8)\n",
    "image = cv2.cvtColor(image, cv2.COLOR_BGR2RGB)\n",
    "image = Image.fromarray(image)\n",
    "image.show()"
   ]
  },
  {
   "cell_type": "code",
   "execution_count": 82,
   "id": "26989c58-d352-4b46-829b-c81fdfb2268b",
   "metadata": {},
   "outputs": [],
   "source": [
    "test_data = LPRDataSet('./data/demo/', (94, 24), 8, mode='test')"
   ]
  },
  {
   "cell_type": "code",
   "execution_count": 84,
   "id": "0986cc7f-0df4-40cc-a8bf-c8437a152e5e",
   "metadata": {},
   "outputs": [
    {
     "data": {
      "image/png": "[encoded data removed]",
      "text/plain": [
       "<PIL.Image.Image image mode=RGB size=94x24 at 0x7F7CB3943E20>"
      ]
     },
     "metadata": {},
     "output_type": "display_data"
    }
   ],
   "source": [
    "img, label, length = test_data[0]\n",
    "image = np.transpose(img, (1, 2, 0)) / 0.0078125 + 127.5\n",
    "image = image.astype(np.uint8)\n",
    "image = cv2.cvtColor(image, cv2.COLOR_BGR2RGB)\n",
    "image = Image.fromarray(image)\n",
    "image.show()"
   ]
  },
  {
   "cell_type": "code",
   "execution_count": 45,
   "id": "06b520b7-2efe-4677-a7d8-f261e8d86d6e",
   "metadata": {},
   "outputs": [],
   "source": [
    "def greedy_decode(preds, pred_char=False):\n",
    "    last_chars_idx = len(CHARS) - 1\n",
    "\n",
    "    # 贪婪解码 (greedy decode)\n",
    "    pred_labels = []\n",
    "    for i in range(preds.shape[0]):\n",
    "        pred = preds[i, :, :]  # 第i张图片对应的结果，即维度为(66, 18)的二维数组\n",
    "        pred_label = []\n",
    "        for j in range(pred.shape[1]):  # 遍历每一列，找到每一列最大值的索引（index）\n",
    "            pred_label.append(np.argmax(pred[:, j], axis=0))\n",
    "        no_repeat_blank_label = []\n",
    "        pre_c = -1\n",
    "        for c in pred_label:  # 合并重复的索引值部分，删除空白标签，即为-1的值(dropout repeate label and blank label)\n",
    "            if (pre_c == c) or (c == last_chars_idx):\n",
    "                if c == last_chars_idx:\n",
    "                    pre_c = c\n",
    "                continue\n",
    "            no_repeat_blank_label.append(c)\n",
    "            pre_c = c\n",
    "        pred_labels.append(no_repeat_blank_label)\n",
    "\n",
    "    # 解码成字符串\n",
    "    if pred_char:\n",
    "        labels = []\n",
    "        for label in pred_labels:\n",
    "            lb = \"\"\n",
    "            for i in label:\n",
    "                lb += CHARS[i]\n",
    "            labels.append(lb)\n",
    "        return pred_labels, labels\n",
    "    else:\n",
    "        return pred_labels"
   ]
  },
  {
   "cell_type": "code",
   "execution_count": 13,
   "id": "a901fe03-0e1a-48f7-b319-8b2385c4b413",
   "metadata": {},
   "outputs": [],
   "source": [
    "import torch\n",
    "import torch.nn as nn"
   ]
  },
  {
   "cell_type": "code",
   "execution_count": 14,
   "id": "0e406f11-4cd4-47fe-9212-ae5938ed7d65",
   "metadata": {},
   "outputs": [],
   "source": [
    "class small_basic_block(nn.Module):\n",
    "    def __init__(self, ch_in, ch_out):\n",
    "        super(small_basic_block, self).__init__()\n",
    "        self.block = nn.Sequential(\n",
    "            nn.Conv2d(ch_in, ch_out // 4, kernel_size=1),\n",
    "            nn.ReLU(),\n",
    "            nn.Conv2d(ch_out // 4, ch_out // 4, kernel_size=(3, 1), padding=(1, 0)),\n",
    "            nn.ReLU(),\n",
    "            nn.Conv2d(ch_out // 4, ch_out // 4, kernel_size=(1, 3), padding=(0, 1)),\n",
    "            nn.ReLU(),\n",
    "            nn.Conv2d(ch_out // 4, ch_out, kernel_size=1),\n",
    "        )\n",
    "    def forward(self, x):\n",
    "        return self.block(x)\n",
    "\n",
    "\n",
    "class LPRNet(nn.Module):\n",
    "    def __init__(self, lpr_max_len, class_num, dropout_rate):\n",
    "        super(LPRNet, self).__init__()\n",
    "        self.lpr_max_len = lpr_max_len\n",
    "        self.class_num = class_num\n",
    "        self.backbone = nn.Sequential(\n",
    "            nn.Conv2d(in_channels=3, out_channels=64, kernel_size=3, stride=1), # 0\n",
    "            nn.BatchNorm2d(num_features=64),\n",
    "            nn.ReLU(),  # 2\n",
    "            nn.MaxPool3d(kernel_size=(1, 3, 3), stride=(1, 1, 1)),\n",
    "            small_basic_block(ch_in=64, ch_out=128),    # *** 4 ***\n",
    "            nn.BatchNorm2d(num_features=128),\n",
    "            nn.ReLU(),  # 6\n",
    "            nn.MaxPool3d(kernel_size=(1, 3, 3), stride=(2, 1, 2)),\n",
    "            small_basic_block(ch_in=64, ch_out=256),   # 8\n",
    "            nn.BatchNorm2d(num_features=256),\n",
    "            nn.ReLU(),  # 10\n",
    "            small_basic_block(ch_in=256, ch_out=256),   # *** 11 ***\n",
    "            nn.BatchNorm2d(num_features=256),   # 12\n",
    "            nn.ReLU(),\n",
    "            nn.MaxPool3d(kernel_size=(1, 3, 3), stride=(4, 1, 2)),  # 14\n",
    "            nn.Dropout(dropout_rate),\n",
    "            nn.Conv2d(in_channels=64, out_channels=256, kernel_size=(1, 4), stride=1),  # 16\n",
    "            nn.BatchNorm2d(num_features=256),\n",
    "            nn.ReLU(),  # 18\n",
    "            nn.Dropout(dropout_rate),\n",
    "            nn.Conv2d(in_channels=256, out_channels=class_num, kernel_size=(13, 1), stride=1), # 20\n",
    "            nn.BatchNorm2d(num_features=class_num),\n",
    "            nn.ReLU(),  # *** 22 ***\n",
    "        )\n",
    "        self.container = nn.Sequential(\n",
    "            nn.Conv2d(in_channels=448+self.class_num, out_channels=self.class_num, kernel_size=(1, 1), stride=(1, 1)),\n",
    "            # nn.BatchNorm2d(num_features=self.class_num),\n",
    "            # nn.ReLU(),\n",
    "            # nn.Conv2d(in_channels=self.class_num, out_channels=self.lpr_max_len+1, kernel_size=3, stride=2),\n",
    "            # nn.ReLU(),\n",
    "        )\n",
    "\n",
    "    def forward(self, x):\n",
    "        keep_features = list()\n",
    "        for i, layer in enumerate(self.backbone.children()):\n",
    "            x = layer(x)\n",
    "            if i in [2, 6, 13, 22]: # [2, 4, 8, 11, 22]\n",
    "                keep_features.append(x)\n",
    "\n",
    "        global_context = list()\n",
    "        for i, f in enumerate(keep_features):\n",
    "            if i in [0, 1]:\n",
    "                f = nn.AvgPool2d(kernel_size=5, stride=5)(f)\n",
    "            if i in [2]:\n",
    "                f = nn.AvgPool2d(kernel_size=(4, 10), stride=(4, 2))(f)\n",
    "            f_pow = torch.pow(f, 2)\n",
    "            f_mean = torch.mean(f_pow)\n",
    "            f = torch.div(f, f_mean)\n",
    "            global_context.append(f)\n",
    "\n",
    "        x = torch.cat(global_context, 1)\n",
    "        x = self.container(x)\n",
    "        logits = torch.mean(x, dim=2)\n",
    "\n",
    "        return logits"
   ]
  },
  {
   "cell_type": "code",
   "execution_count": 15,
   "id": "1fdc1790-5f0f-4c1e-b194-563b3e519272",
   "metadata": {},
   "outputs": [],
   "source": [
    "from torch import optim\n",
    "from torch.utils.data import DataLoader\n",
    "from torch.utils.tensorboard import SummaryWriter\n",
    "from torchvision import transforms"
   ]
  },
  {
   "cell_type": "code",
   "execution_count": 51,
   "id": "796bc5a9-5e74-49c1-860d-c8a93eb9720f",
   "metadata": {},
   "outputs": [],
   "source": [
    "train_data = LPRDataSet('./data/demo/', (94, 24), 8, mode='train')\n",
    "test_data = LPRDataSet('./data/demo/', (94, 24), 8, mode='test')"
   ]
  },
  {
   "cell_type": "code",
   "execution_count": 38,
   "id": "90782208-521c-410d-8a84-d2c2af772888",
   "metadata": {},
   "outputs": [
    {
     "data": {
      "text/plain": [
       "<All keys matched successfully>"
      ]
     },
     "execution_count": 38,
     "metadata": {},
     "output_type": "execute_result"
    }
   ],
   "source": [
    "model = LPRNet(lpr_max_len=8, class_num=len(CHARS), dropout_rate=0.5)\n",
    "dic = torch.load('./weights/Final_LPRNet_model.pth', map_location=torch.device(\"cpu\"))\n",
    "model.load_state_dict(dic)"
   ]
  },
  {
   "cell_type": "code",
   "execution_count": 106,
   "id": "aa9de706-9c93-4a8e-8d72-e8ff086a3b60",
   "metadata": {},
   "outputs": [
    {
     "name": "stdout",
     "output_type": "stream",
     "text": [
      "using  cpu\n"
     ]
    }
   ],
   "source": [
    "epoch = 1\n",
    "\n",
    "# 损失函数 reduction: 'none' | 'mean' | 'sum'\n",
    "ctc_loss = nn.CTCLoss(blank=len(CHARS)-1, reduction='mean')\n",
    "\n",
    "# 优化器\n",
    "optimizer = optim.Adam(\n",
    "    model.parameters(),\n",
    "    lr=0.001\n",
    ")\n",
    "\n",
    "# cpu训练还是GPU训练\n",
    "device = torch.device(\"cuda:0\" if torch.cuda.is_available() else \"cpu\")\n",
    "print('using ', device)\n",
    "model = model.to(device)\n",
    "\n",
    "# tensorboard\n",
    "log_folder = \"./logs/demo\"\n",
    "if not os.path.exists(log_folder):\n",
    "    os.mkdir(log_folder)\n",
    "writer = SummaryWriter(log_dir=log_folder)\n",
    "\n",
    "# 模型保存路径\n",
    "save_folder = './weights'\n",
    "if not os.path.exists(save_folder):\n",
    "    os.mkdir(save_folder)"
   ]
  },
  {
   "cell_type": "code",
   "execution_count": 107,
   "id": "13b35b46-e4c4-40f5-8d97-1f21046e4f07",
   "metadata": {},
   "outputs": [],
   "source": [
    "batch_size = 20\n",
    "\n",
    "def collate_fn(batch):\n",
    "    imgs = []\n",
    "    labels = []\n",
    "    lengths = []\n",
    "    for sample in batch:\n",
    "        img, label, length = sample\n",
    "        imgs.append(torch.from_numpy(img))\n",
    "        # imgs.append(img)\n",
    "        labels.extend(label)\n",
    "        lengths.append(length)\n",
    "    labels = np.asarray(labels).flatten().astype(np.int32)\n",
    "    return (torch.stack(imgs, 0), torch.from_numpy(labels), lengths)\n",
    "\n",
    "\n",
    "# 利用DataLoader加载数据集\n",
    "train_loader = DataLoader(dataset=train_data, batch_size=batch_size,\n",
    "                          shuffle=True, drop_last=True, collate_fn=collate_fn)\n",
    "test_loader = DataLoader(dataset=test_data, batch_size=batch_size, collate_fn=collate_fn,\n",
    "                         shuffle=True, drop_last=True)"
   ]
  },
  {
   "cell_type": "code",
   "execution_count": 108,
   "id": "09e9fef4-6923-47e6-89d6-79111a69d488",
   "metadata": {},
   "outputs": [],
   "source": [
    "# https://zhuanlan.zhihu.com/p/67415439\n",
    "def sparse_tuple_for_ctc(T_length=18, lengths=8):\n",
    "    # T_length >= 2*lengths+1, lengths <= lpr_max_len\n",
    "    input_lengths = []\n",
    "    target_lengths = []\n",
    "\n",
    "    for ch in lengths:\n",
    "        input_lengths.append(T_length)\n",
    "        target_lengths.append(ch)\n",
    "\n",
    "    return tuple(input_lengths), tuple(target_lengths)"
   ]
  },
  {
   "cell_type": "code",
   "execution_count": 110,
   "id": "d31a09a1-ac3d-40be-8ca4-a668ecab634a",
   "metadata": {},
   "outputs": [
    {
     "name": "stdout",
     "output_type": "stream",
     "text": [
      "-----第1轮训练开始-----\n",
      "训练次数：0，loss：17.994121551513672\n",
      "整体测试集上的acc: 0.0\n"
     ]
    }
   ],
   "source": [
    "# 训练和测试\n",
    "verbose_step = 1\n",
    "total_train_step = 0  # 记录训练次数\n",
    "total_test_step = 0   # 记录测试次数\n",
    "acc = 0.55\n",
    "for i in range(epoch):\n",
    "    print(\"-----第{}轮训练开始-----\".format(i+1))\n",
    "\n",
    "    # 训练\n",
    "    model.train()  # 开启训练模式\n",
    "    for images, labels, lengths in train_loader:\n",
    "        # get ctc parameters\n",
    "        input_lengths, target_lengths = sparse_tuple_for_ctc(lengths=lengths)\n",
    "        # forward\n",
    "        images = images.to(device)\n",
    "        logits = model(images)\n",
    "        log_probs = logits.permute(2, 0, 1) # for ctc loss: T x N x C\n",
    "        log_probs = log_probs.log_softmax(2).requires_grad_()\n",
    "        # backprop\n",
    "        optimizer.zero_grad()  # 优化器中的参数梯度归零\n",
    "        loss = ctc_loss(log_probs, labels, input_lengths=input_lengths, target_lengths=target_lengths)\n",
    "        if loss.item() == np.inf:  # 如果梯度爆炸\n",
    "            continue\n",
    "        loss.backward()        # 反向传播，计算梯度\n",
    "        optimizer.step()       # 优化网络\n",
    "        # 记录loss\n",
    "        if total_train_step % verbose_step == 0:  # 每verbose_step个batch，显示信息\n",
    "            print(\"训练次数：{}，loss：{}\".format(total_train_step, loss.item()))\n",
    "            writer.add_scalar(\"train_loss\", loss.item(), total_train_step)\n",
    "            writer.add_images(\"Epoch\".format(epoch), images, total_train_step)\n",
    "        total_train_step += 1\n",
    "\n",
    "    # 测试\n",
    "    model.eval()  # 开启测试模式\n",
    "    total_test_loss = 0\n",
    "    total_acc_num = 0\n",
    "    Tp, Tn = 0.0, 0.0\n",
    "    with torch.no_grad():  # 关闭梯度计算\n",
    "        for images, labels, lengths in test_loader:\n",
    "            # labels: 1D -> 2D\n",
    "            targets = []\n",
    "            start = 0\n",
    "            for length in lengths:\n",
    "                label = labels[start:start+length]\n",
    "                targets.append(label.tolist())\n",
    "                start += length\n",
    "            # forward\n",
    "            images = images.to(device)\n",
    "            prebs = model(images)\n",
    "            prebs = prebs.cpu().detach().numpy()\n",
    "            # greedy decode\n",
    "            preb_labels = greedy_decode(prebs)\n",
    "            # calculate\n",
    "            for i, label in enumerate(preb_labels):\n",
    "                if len(label) != len(targets[i]):  # 长度不一致\n",
    "                    Tn += 1\n",
    "                    continue\n",
    "                if targets[i] == label:\n",
    "                    Tp += 1\n",
    "                else:\n",
    "                    Tn += 1\n",
    "        total_test_acc = float(Tp) / float(Tp + Tn)\n",
    "        print(\"整体测试集上的acc: {}\".format(total_test_acc))\n",
    "        writer.add_scalar(\"test_acc\", total_test_acc, total_test_step)\n",
    "        total_test_step += 1\n",
    "\n",
    "    # 保存模型参数\n",
    "    if total_test_acc >= acc:  # 保存最好的\n",
    "        acc = total_test_acc\n",
    "        model_path = save_folder + \"/demo_{:.2f}.pth\".format(acc)\n",
    "        torch.save(model.state_dict(), model_path)\n",
    "        print(\"模型已保存\")\n",
    "\n",
    "writer.close()"
   ]
  },
  {
   "cell_type": "markdown",
   "id": "0a0f8f68-5453-4311-91a6-6ac62f92471e",
   "metadata": {},
   "source": [
    "### 查看acc/loss曲线、训练的照片"
   ]
  },
  {
   "cell_type": "code",
   "execution_count": null,
   "id": "c966f029-772d-4ef0-8089-f8c11758cc44",
   "metadata": {},
   "outputs": [],
   "source": [
    "!tensorboard --logdir=logs"
   ]
  },
  {
   "cell_type": "markdown",
   "id": "57cdd617-df07-401b-a49b-cb5473295dc0",
   "metadata": {},
   "source": [
    "### 测试"
   ]
  },
  {
   "cell_type": "code",
   "execution_count": 111,
   "id": "5d823aa3-f0c1-4cad-bc75-5a99dd8625b0",
   "metadata": {},
   "outputs": [
    {
     "name": "stdout",
     "output_type": "stream",
     "text": [
      "整体测试集上的acc: 0.0\n"
     ]
    }
   ],
   "source": [
    "# 测试\n",
    "Tp, Tn = 0.0, 0.0\n",
    "device = torch.device(\"cuda:0\" if torch.cuda.is_available() else \"cpu\")\n",
    "model.eval()  # 开启测试模式\n",
    "with torch.no_grad():  # 关闭梯度计算\n",
    "    for images, labels, lengths in test_loader:\n",
    "        # labels: 1D -> 2D\n",
    "        targets = []\n",
    "        start = 0\n",
    "        for length in lengths:\n",
    "            label = labels[start:start+length]\n",
    "            targets.append(label.tolist())\n",
    "            start += length\n",
    "        # forward\n",
    "        images = images.to(device)\n",
    "        prebs = model(images)\n",
    "        prebs = prebs.cpu().detach().numpy()\n",
    "        # greedy decode\n",
    "        preb_labels = greedy_decode(prebs)\n",
    "        # calculate\n",
    "        for i, label in enumerate(preb_labels):\n",
    "            if len(label) != len(targets[i]):  # 长度不一致\n",
    "                Tn += 1\n",
    "                continue\n",
    "            if targets[i] == label:\n",
    "                Tp += 1\n",
    "            else:\n",
    "                Tn += 1\n",
    "    total_test_acc = float(Tp) / float(Tp + Tn)\n",
    "    print(\"整体测试集上的acc: {}\".format(total_test_acc))"
   ]
  },
  {
   "cell_type": "code",
   "execution_count": null,
   "id": "560317b8-ad45-4ce6-b7e6-c0359d3da9f7",
   "metadata": {},
   "outputs": [],
   "source": []
  }
 ],
 "metadata": {
  "kernelspec": {
   "display_name": "default:Python",
   "language": "python",
   "name": "conda-env-default-py"
  },
  "language_info": {
   "codemirror_mode": {
    "name": "ipython",
    "version": 3
   },
   "file_extension": ".py",
   "mimetype": "text/x-python",
   "name": "python",
   "nbconvert_exporter": "python",
   "pygments_lexer": "ipython3",
   "version": "3.9.10"
  }
 },
 "nbformat": 4,
 "nbformat_minor": 5
}
